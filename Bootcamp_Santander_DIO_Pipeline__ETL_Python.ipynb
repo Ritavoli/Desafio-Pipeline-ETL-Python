{
  "nbformat": 4,
  "nbformat_minor": 0,
  "metadata": {
    "colab": {
      "provenance": [],
      "collapsed_sections": [
        "kNuP0SDUZMBY"
      ],
      "include_colab_link": true
    },
    "kernelspec": {
      "name": "python3",
      "display_name": "Python 3"
    },
    "language_info": {
      "name": "python"
    }
  },
  "cells": [
    {
      "cell_type": "markdown",
      "metadata": {
        "id": "view-in-github",
        "colab_type": "text"
      },
      "source": [
        "<a href=\"https://colab.research.google.com/github/Ritavoli/Desafio-Pipeline-ETL-Python/blob/main/Bootcamp_Santander_DIO_Pipeline__ETL_Python.ipynb\" target=\"_parent\"><img src=\"https://colab.research.google.com/assets/colab-badge.svg\" alt=\"Open In Colab\"/></a>"
      ]
    },
    {
      "cell_type": "markdown",
      "source": [
        "#Pipeline de ETL com Python"
      ],
      "metadata": {
        "id": "BPJQsTCULaC-"
      }
    },
    {
      "cell_type": "markdown",
      "source": [
        "**Contexto:** Você trabalha em uma empresa de comércio eletrônico chamada \"TechGadgets\". A empresa possui uma grande variedade de produtos eletrônicos em seu catálogo, incluindo smartphones, laptops, tablets e acessórios. Recentemente, a empresa decidiu lançar uma campanha de marketing personalizada para seus clientes com base em seus interesses e histórico de compras.\n",
        "\n",
        "**Condições do Problema:**\n",
        "\n",
        "A empresa possui um banco de dados em formato CSV ('historico_compras.csv') que contém informações sobre as compras passadas dos clientes, incluindo o ID do cliente, o produto comprado e a data da compra.\n",
        "Sua tarefa é criar um pipeline de ETL em Python para realizar as seguintes etapas:\n",
        "\n",
        "**a.** Extração: Ler o arquivo CSV ('historico_compras.csv') para obter informações sobre as compras dos clientes.\n",
        "\n",
        "**b.** Transformação: Analisar os dados para identificar os produtos mais comprados por cada cliente, bem como a data da última compra de cada cliente.\n",
        "\n",
        "**c.** Carregamento: Usar essas informações para criar mensagens de marketing personalizadas para cada cliente, destacando produtos relacionados aos seus interesses e sugerindo promoções com base em sua última compra e enviar as mensagens por e-mail para cada cliente."
      ],
      "metadata": {
        "id": "k5fA5OrXt1a3"
      }
    },
    {
      "cell_type": "markdown",
      "source": [],
      "metadata": {
        "id": "USDlz2NZ9Mw9"
      }
    },
    {
      "cell_type": "markdown",
      "source": [
        "## **E**xtract\n",
        "\n",
        "Extraindo os dados de clientes de um arquivo CSV."
      ],
      "metadata": {
        "id": "9dfI-o7gLRq9"
      }
    },
    {
      "cell_type": "code",
      "execution_count": null,
      "metadata": {
        "id": "NYydpX_GLRCB"
      },
      "outputs": [],
      "source": [
        "import pandas as pd\n",
        "\n",
        "# Lendo o arquivo CSV\n",
        "df = pd.read_csv('historico_compras.csv')\n",
        "\n",
        "# Para acessar as colunas\n",
        "Clientes_ids = df['ID_Cliente'].tolist()\n",
        "Clientes_produto = df['Produto'].tolist()\n",
        "Clientes_data = df['Data_Compra'].tolist()\n",
        "Clientes_email = df['Email'].tolist()\n",
        "\n",
        "# e imprimir os dados para verificação\n",
        "print(Clientes_ids)\n",
        "print(Clientes_produto)\n",
        "print(Clientes_data)\n",
        "print(Clientes_email)\n",
        "\n"
      ]
    },
    {
      "cell_type": "markdown",
      "source": [
        "## **T**ransform\n",
        "\n",
        "Agrupando os dados por ID do cliente para identificar os produtos mais comprados por cada cliente."
      ],
      "metadata": {
        "id": "cWoqInB4TF1x"
      }
    },
    {
      "cell_type": "code",
      "source": [
        "# Converta a coluna 'Data_Compra' para o tipo datetime\n",
        "df['Data_Compra'] = pd.to_datetime(df['Data_Compra'])\n",
        "\n",
        "# Descubra qual produto foi mais vendido\n",
        "produto_mais_comprado_por_cliente = df.groupby('ID_Cliente')['Produto'].apply(lambda x: x.value_counts().idxmax()).reset_index(name='Produto_Mais_Comprado')\n",
        "\n",
        "# Encontre a data da última compra de cada cliente\n",
        "data_ultima_compra_por_cliente = df.groupby('ID_Cliente')['Data_Compra'].max().reset_index(name='Data_Ultima_Compra')\n",
        "\n",
        "# Combine as informações em um único DataFrame\n",
        "resultado = produto_mais_comprado_por_cliente.merge(data_ultima_compra_por_cliente, on='ID_Cliente')\n",
        "\n",
        "# Exiba o resultado\n",
        "print(resultado)\n"
      ],
      "metadata": {
        "id": "sUB1doiDTX3y"
      },
      "execution_count": null,
      "outputs": []
    },
    {
      "cell_type": "markdown",
      "source": [
        "## **L**oad\n",
        "\n",
        "Gerando mensagens de marketing personalizadas para enviar a cada cliente."
      ],
      "metadata": {
        "id": "kNuP0SDUZMBY"
      }
    },
    {
      "cell_type": "code",
      "source": [
        "\n",
        "# Função para criar uma mensagem de marketing personalizada\n",
        "def criar_mensagem(cliente_id, grupo):\n",
        "    produto_mais_comprado = grupo['Produto'].value_counts().idxmax()\n",
        "    data_ultima_compra = grupo['Data_Compra'].max()\n",
        "\n",
        "    mensagem = f\"Olá Cliente {cliente_id},\\n\"\n",
        "    mensagem += f\"Com base no seu histórico de compras, recomendamos ofertas especiais em {produto_mais_comprado}.\\n\"\n",
        "    mensagem += f\"Sua última compra foi em: {data_ultima_compra}\\n\"\n",
        "    mensagem += \"Aproveite nossas promoções!\\n\"\n",
        "    mensagem += \"Atenciosamente,\\nSua Empresa\"\n",
        "\n",
        "    return mensagem\n",
        "\n",
        "# Itera pelos grupos de clientes e imprime as mensagens simulando o envio\n",
        "for cliente_id, grupo in grupo_clientes:\n",
        "    mensagem = criar_mensagem(cliente_id, grupo)\n",
        "\n",
        "    # Obtém o e-mail do cliente (supondo que todos os e-mails sejam iguais para um cliente)\n",
        "    email_cliente = grupo['Email'].iloc[0]\n",
        "\n",
        "    # Simula o envio imprimindo a mensagem e o endereço de e-mail do cliente\n",
        "    print(f\"Enviando mensagem para o Cliente {cliente_id} ({email_cliente}):\")\n",
        "    print(mensagem)\n",
        "    print(\"=\" * 40)  # Linha de separação entre os e-mails"
      ],
      "metadata": {
        "id": "2SYMy1B82Gec"
      },
      "execution_count": null,
      "outputs": []
    }
  ]
}