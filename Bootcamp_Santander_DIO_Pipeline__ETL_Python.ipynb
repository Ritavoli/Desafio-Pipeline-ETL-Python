{
  "nbformat": 4,
  "nbformat_minor": 0,
  "metadata": {
    "colab": {
      "provenance": [],
      "collapsed_sections": [
        "kNuP0SDUZMBY"
      ],
      "gpuType": "T4",
      "include_colab_link": true
    },
    "kernelspec": {
      "name": "python3",
      "display_name": "Python 3"
    },
    "language_info": {
      "name": "python"
    },
    "accelerator": "GPU"
  },
  "cells": [
    {
      "cell_type": "markdown",
      "metadata": {
        "id": "view-in-github",
        "colab_type": "text"
      },
      "source": [
        "<a href=\"https://colab.research.google.com/github/Ritavoli/Desafio-Pipeline-ETL-Python/blob/main/Bootcamp_Santander_DIO_Pipeline__ETL_Python.ipynb\" target=\"_parent\"><img src=\"https://colab.research.google.com/assets/colab-badge.svg\" alt=\"Open In Colab\"/></a>"
      ]
    },
    {
      "cell_type": "markdown",
      "source": [
        "#Pipeline de ETL com Python"
      ],
      "metadata": {
        "id": "BPJQsTCULaC-"
      }
    },
    {
      "cell_type": "markdown",
      "source": [
        "**Contexto:** Você trabalha em uma empresa de comércio eletrônico chamada \"TechGadgets\". A empresa possui uma grande variedade de produtos eletrônicos em seu catálogo, incluindo smartphones, laptops, tablets e acessórios. Recentemente, a empresa decidiu lançar uma campanha de marketing personalizada para seus clientes com base em seus interesses e histórico de compras.\n",
        "\n",
        "**Condições do Problema:**\n",
        "\n",
        "A empresa possui um banco de dados em formato CSV ('historico_compras.csv') que contém informações sobre as compras passadas dos clientes, incluindo o ID do cliente, o produto comprado e a data da compra.\n",
        "Sua tarefa é criar um pipeline de ETL em Python para realizar as seguintes etapas:\n",
        "\n",
        "**a.** Extração: Ler o arquivo CSV ('historico_compras.csv') para obter informações sobre as compras dos clientes.\n",
        "\n",
        "**b.** Transformação: Analisar os dados para identificar os produtos mais comprados por cada cliente, bem como a data da última compra de cada cliente.\n",
        "\n",
        "**c.** Carregamento: Usar essas informações para criar mensagens de marketing personalizadas para cada cliente, destacando produtos relacionados aos seus interesses e sugerindo promoções com base em sua última compra e enviar as mensagens por e-mail para cada cliente."
      ],
      "metadata": {
        "id": "k5fA5OrXt1a3"
      }
    },
    {
      "cell_type": "markdown",
      "source": [
        "## **E**xtract\n",
        "\n",
        "Extraindo os dados de clientes de um arquivo CSV."
      ],
      "metadata": {
        "id": "9dfI-o7gLRq9"
      }
    },
    {
      "cell_type": "code",
      "execution_count": 1,
      "metadata": {
        "id": "NYydpX_GLRCB",
        "colab": {
          "base_uri": "https://localhost:8080/"
        },
        "outputId": "98a4516b-efef-4e2f-f43e-fb71a24e8be2"
      },
      "outputs": [
        {
          "output_type": "stream",
          "name": "stdout",
          "text": [
            "[1, 1, 2, 3, 4, 5, 5, 6, 7, 8, 9, 10, 10]\n",
            "['Smartphone', 'Laptop', 'Tablet', 'Smartphone', 'Tablet', 'Smartphone', 'Tablet', 'Laptop', 'Smartphone', 'Smartphone', 'Laptop', 'Tablet', 'Smartphone']\n",
            "['2023-08-01', '2023-07-15', '2023-08-05', '2023-08-03', '2023-07-20', '2023-08-02', '2023-07-18', '2023-07-30', '2023-08-04', '2023-07-25', '2023-08-07', '2023-08-06', '2023-07-28']\n",
            "['1cliente@techmail.com', '1cliente@techmail.com', '2cliente@techmail.com', '3cliente@techmail.com', '4cliente@techmail.com', '5cliente@techmail.com', '5cliente@techmail.com ', ' 6cliente@techmail.com', '7cliente@techmail.com', '8cliente@techmail.com', '9cliente@techmail.com', '10cliente@techmail.com', '10cliente@techmail.com']\n"
          ]
        }
      ],
      "source": [
        "import pandas as pd\n",
        "\n",
        "# Lendo o arquivo CSV\n",
        "df = pd.read_csv('historico_compras.csv')\n",
        "\n",
        "# Para acessar as colunas\n",
        "Clientes_ids = df['ID_Cliente'].tolist()\n",
        "Clientes_produto = df['Produto'].tolist()\n",
        "Clientes_data = df['Data_Compra'].tolist()\n",
        "Clientes_email = df['Email'].tolist()\n",
        "\n",
        "# e imprimir os dados para verificação\n",
        "print(Clientes_ids)\n",
        "print(Clientes_produto)\n",
        "print(Clientes_data)\n",
        "print(Clientes_email)\n",
        "\n"
      ]
    },
    {
      "cell_type": "markdown",
      "source": [
        "## **T**ransform\n",
        "\n",
        "Agrupando os dados por ID do cliente para identificar os produtos mais comprados por cada cliente."
      ],
      "metadata": {
        "id": "cWoqInB4TF1x"
      }
    },
    {
      "cell_type": "code",
      "source": [
        "# Converta a coluna 'Data_Compra' para o tipo datetime\n",
        "df['Data_Compra'] = pd.to_datetime(df['Data_Compra'])\n",
        "\n",
        "# Descubra qual produto foi mais vendido\n",
        "produto_mais_comprado_por_cliente = df.groupby('ID_Cliente')['Produto'].apply(lambda x: x.value_counts().idxmax()).reset_index(name='Produto_Mais_Comprado')\n",
        "\n",
        "# Encontre a data da última compra de cada cliente\n",
        "data_ultima_compra_por_cliente = df.groupby('ID_Cliente')['Data_Compra'].max().reset_index(name='Data_Ultima_Compra')\n",
        "\n",
        "# Combine as informações em um único DataFrame\n",
        "resultado = produto_mais_comprado_por_cliente.merge(data_ultima_compra_por_cliente, on='ID_Cliente')\n",
        "\n",
        "# Exiba o resultado\n",
        "print(resultado)\n"
      ],
      "metadata": {
        "id": "sUB1doiDTX3y",
        "colab": {
          "base_uri": "https://localhost:8080/"
        },
        "outputId": "d2df98e2-76d1-4a39-b19a-df856f6e434a"
      },
      "execution_count": 3,
      "outputs": [
        {
          "output_type": "stream",
          "name": "stdout",
          "text": [
            "   ID_Cliente Produto_Mais_Comprado Data_Ultima_Compra\n",
            "0           1            Smartphone         2023-08-01\n",
            "1           2                Tablet         2023-08-05\n",
            "2           3            Smartphone         2023-08-03\n",
            "3           4                Tablet         2023-07-20\n",
            "4           5            Smartphone         2023-08-02\n",
            "5           6                Laptop         2023-07-30\n",
            "6           7            Smartphone         2023-08-04\n",
            "7           8            Smartphone         2023-07-25\n",
            "8           9                Laptop         2023-08-07\n",
            "9          10                Tablet         2023-08-06\n"
          ]
        }
      ]
    },
    {
      "cell_type": "markdown",
      "source": [
        "## **L**oad\n",
        "\n",
        "Gerando mensagens de marketing personalizadas para enviar a cada cliente."
      ],
      "metadata": {
        "id": "kNuP0SDUZMBY"
      }
    },
    {
      "cell_type": "code",
      "source": [
        "\n",
        "# Agrupando os dados por cliente\n",
        "grupo_clientes = df.groupby('ID_Cliente')\n",
        "\n",
        "# Função para criar a mensagem de marketing personalizada\n",
        "def criar_mensagem(cliente_id, grupo):\n",
        "    produto_mais_comprado = grupo['Produto'].value_counts().idxmax()\n",
        "    data_ultima_compra = grupo['Data_Compra'].max()\n",
        "\n",
        "    mensagem = f\"Olá Cliente {cliente_id},\\n\"\n",
        "    mensagem += f\"Com base no seu histórico de compras, recomendamos ofertas especiais em {produto_mais_comprado}.\\n\"\n",
        "    mensagem += f\"Sua última compra foi em: {data_ultima_compra}\\n\"\n",
        "    mensagem += \"Aproveite nossas promoções!\\n\"\n",
        "    mensagem += \"Atenciosamente,\\nTechGadgets\"\n",
        "\n",
        "    return mensagem\n",
        "\n",
        "# Itera pelos grupos de clientes e imprime as mensagens simulando o envio\n",
        "for cliente_id, grupo in grupo_clientes:\n",
        "    mensagem = criar_mensagem(cliente_id, grupo)\n",
        "\n",
        "    # Obtém o e-mail do cliente\n",
        "    email_cliente = grupo['Email'].iloc[0]\n",
        "\n",
        "    # Simula o envio, imprimindo a mensagem e o endereço de e-mail do cliente\n",
        "    print(f\"Enviando mensagem para o Cliente {cliente_id} ({email_cliente}):\")\n",
        "    print(mensagem)\n",
        "    print(\"=\" * 40)  #separação entre os e-mails"
      ],
      "metadata": {
        "id": "2SYMy1B82Gec",
        "colab": {
          "base_uri": "https://localhost:8080/"
        },
        "outputId": "d8784231-5ac0-48a7-d19b-88ccafa3fcee"
      },
      "execution_count": 6,
      "outputs": [
        {
          "output_type": "stream",
          "name": "stdout",
          "text": [
            "Enviando mensagem para o Cliente 1 (1cliente@techmail.com):\n",
            "Olá Cliente 1,\n",
            "Com base no seu histórico de compras, recomendamos ofertas especiais em Smartphone.\n",
            "Sua última compra foi em: 2023-08-01 00:00:00\n",
            "Aproveite nossas promoções!\n",
            "Atenciosamente,\n",
            "TechGadgets\n",
            "========================================\n",
            "Enviando mensagem para o Cliente 2 (2cliente@techmail.com):\n",
            "Olá Cliente 2,\n",
            "Com base no seu histórico de compras, recomendamos ofertas especiais em Tablet.\n",
            "Sua última compra foi em: 2023-08-05 00:00:00\n",
            "Aproveite nossas promoções!\n",
            "Atenciosamente,\n",
            "TechGadgets\n",
            "========================================\n",
            "Enviando mensagem para o Cliente 3 (3cliente@techmail.com):\n",
            "Olá Cliente 3,\n",
            "Com base no seu histórico de compras, recomendamos ofertas especiais em Smartphone.\n",
            "Sua última compra foi em: 2023-08-03 00:00:00\n",
            "Aproveite nossas promoções!\n",
            "Atenciosamente,\n",
            "TechGadgets\n",
            "========================================\n",
            "Enviando mensagem para o Cliente 4 (4cliente@techmail.com):\n",
            "Olá Cliente 4,\n",
            "Com base no seu histórico de compras, recomendamos ofertas especiais em Tablet.\n",
            "Sua última compra foi em: 2023-07-20 00:00:00\n",
            "Aproveite nossas promoções!\n",
            "Atenciosamente,\n",
            "TechGadgets\n",
            "========================================\n",
            "Enviando mensagem para o Cliente 5 (5cliente@techmail.com):\n",
            "Olá Cliente 5,\n",
            "Com base no seu histórico de compras, recomendamos ofertas especiais em Smartphone.\n",
            "Sua última compra foi em: 2023-08-02 00:00:00\n",
            "Aproveite nossas promoções!\n",
            "Atenciosamente,\n",
            "TechGadgets\n",
            "========================================\n",
            "Enviando mensagem para o Cliente 6 ( 6cliente@techmail.com):\n",
            "Olá Cliente 6,\n",
            "Com base no seu histórico de compras, recomendamos ofertas especiais em Laptop.\n",
            "Sua última compra foi em: 2023-07-30 00:00:00\n",
            "Aproveite nossas promoções!\n",
            "Atenciosamente,\n",
            "TechGadgets\n",
            "========================================\n",
            "Enviando mensagem para o Cliente 7 (7cliente@techmail.com):\n",
            "Olá Cliente 7,\n",
            "Com base no seu histórico de compras, recomendamos ofertas especiais em Smartphone.\n",
            "Sua última compra foi em: 2023-08-04 00:00:00\n",
            "Aproveite nossas promoções!\n",
            "Atenciosamente,\n",
            "TechGadgets\n",
            "========================================\n",
            "Enviando mensagem para o Cliente 8 (8cliente@techmail.com):\n",
            "Olá Cliente 8,\n",
            "Com base no seu histórico de compras, recomendamos ofertas especiais em Smartphone.\n",
            "Sua última compra foi em: 2023-07-25 00:00:00\n",
            "Aproveite nossas promoções!\n",
            "Atenciosamente,\n",
            "TechGadgets\n",
            "========================================\n",
            "Enviando mensagem para o Cliente 9 (9cliente@techmail.com):\n",
            "Olá Cliente 9,\n",
            "Com base no seu histórico de compras, recomendamos ofertas especiais em Laptop.\n",
            "Sua última compra foi em: 2023-08-07 00:00:00\n",
            "Aproveite nossas promoções!\n",
            "Atenciosamente,\n",
            "TechGadgets\n",
            "========================================\n",
            "Enviando mensagem para o Cliente 10 (10cliente@techmail.com):\n",
            "Olá Cliente 10,\n",
            "Com base no seu histórico de compras, recomendamos ofertas especiais em Tablet.\n",
            "Sua última compra foi em: 2023-08-06 00:00:00\n",
            "Aproveite nossas promoções!\n",
            "Atenciosamente,\n",
            "TechGadgets\n",
            "========================================\n"
          ]
        }
      ]
    }
  ]
}